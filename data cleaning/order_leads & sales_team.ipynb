{
 "cells": [
  {
   "cell_type": "code",
   "execution_count": 42,
   "id": "3ea231c8",
   "metadata": {},
   "outputs": [],
   "source": [
    "import pandas as pd\n",
    "import seaborn as sns"
   ]
  },
  {
   "cell_type": "code",
   "execution_count": 2,
   "id": "683b750d",
   "metadata": {},
   "outputs": [],
   "source": [
    "url1 = 'https://raw.githubusercontent.com/FBosler/Medium-Data-Exploration/master/order_leads.csv'\n",
    "url2 = 'https://raw.githubusercontent.com/FBosler/Medium-Data-Exploration/master/sales_team.csv'"
   ]
  },
  {
   "cell_type": "code",
   "execution_count": 4,
   "id": "44ab340b",
   "metadata": {},
   "outputs": [],
   "source": [
    "order_leads=pd.read_csv(url1,parse_dates=[3])\n",
    "sales_team=pd.read_csv(url2)\n"
   ]
  },
  {
   "cell_type": "code",
   "execution_count": 9,
   "id": "83bbbf14",
   "metadata": {},
   "outputs": [
    {
     "data": {
      "text/plain": [
       "(100000, 6)"
      ]
     },
     "execution_count": 9,
     "metadata": {},
     "output_type": "execute_result"
    }
   ],
   "source": [
    "order_leads.shape"
   ]
  },
  {
   "cell_type": "code",
   "execution_count": 8,
   "id": "a6197550",
   "metadata": {},
   "outputs": [
    {
     "data": {
      "text/plain": [
       "Index(['Order Id', 'Company Id', 'Company Name', 'Date', 'Order Value',\n",
       "       'Converted'],\n",
       "      dtype='object')"
      ]
     },
     "execution_count": 8,
     "metadata": {},
     "output_type": "execute_result"
    }
   ],
   "source": [
    "order_leads.columns"
   ]
  },
  {
   "cell_type": "code",
   "execution_count": 11,
   "id": "352e3e48",
   "metadata": {},
   "outputs": [
    {
     "data": {
      "text/html": [
       "<div>\n",
       "<style scoped>\n",
       "    .dataframe tbody tr th:only-of-type {\n",
       "        vertical-align: middle;\n",
       "    }\n",
       "\n",
       "    .dataframe tbody tr th {\n",
       "        vertical-align: top;\n",
       "    }\n",
       "\n",
       "    .dataframe thead th {\n",
       "        text-align: right;\n",
       "    }\n",
       "</style>\n",
       "<table border=\"1\" class=\"dataframe\">\n",
       "  <thead>\n",
       "    <tr style=\"text-align: right;\">\n",
       "      <th></th>\n",
       "      <th>Order Id</th>\n",
       "      <th>Company Id</th>\n",
       "      <th>Company Name</th>\n",
       "      <th>Date</th>\n",
       "      <th>Order Value</th>\n",
       "      <th>Converted</th>\n",
       "    </tr>\n",
       "  </thead>\n",
       "  <tbody>\n",
       "    <tr>\n",
       "      <th>0</th>\n",
       "      <td>HZSXLI1IS9RGABZW</td>\n",
       "      <td>D0AUXPP07H6AVSGD</td>\n",
       "      <td>Melancholy Social-Role</td>\n",
       "      <td>2017-10-13</td>\n",
       "      <td>6952</td>\n",
       "      <td>0</td>\n",
       "    </tr>\n",
       "    <tr>\n",
       "      <th>1</th>\n",
       "      <td>582WPS3OW8T6YT0R</td>\n",
       "      <td>D0AUXPP07H6AVSGD</td>\n",
       "      <td>Melancholy Social-Role</td>\n",
       "      <td>2017-09-02</td>\n",
       "      <td>7930</td>\n",
       "      <td>0</td>\n",
       "    </tr>\n",
       "    <tr>\n",
       "      <th>2</th>\n",
       "      <td>KRF65MQZBOYG4Y9T</td>\n",
       "      <td>D0AUXPP07H6AVSGD</td>\n",
       "      <td>Melancholy Social-Role</td>\n",
       "      <td>2016-12-21</td>\n",
       "      <td>5538</td>\n",
       "      <td>1</td>\n",
       "    </tr>\n",
       "    <tr>\n",
       "      <th>3</th>\n",
       "      <td>N3EDZ5V1WGSWW828</td>\n",
       "      <td>D0AUXPP07H6AVSGD</td>\n",
       "      <td>Melancholy Social-Role</td>\n",
       "      <td>2018-06-03</td>\n",
       "      <td>1113</td>\n",
       "      <td>0</td>\n",
       "    </tr>\n",
       "    <tr>\n",
       "      <th>4</th>\n",
       "      <td>QXBC8COXEXGFSPLP</td>\n",
       "      <td>D0AUXPP07H6AVSGD</td>\n",
       "      <td>Melancholy Social-Role</td>\n",
       "      <td>2014-07-26</td>\n",
       "      <td>4596</td>\n",
       "      <td>0</td>\n",
       "    </tr>\n",
       "  </tbody>\n",
       "</table>\n",
       "</div>"
      ],
      "text/plain": [
       "           Order Id        Company Id            Company Name       Date  \\\n",
       "0  HZSXLI1IS9RGABZW  D0AUXPP07H6AVSGD  Melancholy Social-Role 2017-10-13   \n",
       "1  582WPS3OW8T6YT0R  D0AUXPP07H6AVSGD  Melancholy Social-Role 2017-09-02   \n",
       "2  KRF65MQZBOYG4Y9T  D0AUXPP07H6AVSGD  Melancholy Social-Role 2016-12-21   \n",
       "3  N3EDZ5V1WGSWW828  D0AUXPP07H6AVSGD  Melancholy Social-Role 2018-06-03   \n",
       "4  QXBC8COXEXGFSPLP  D0AUXPP07H6AVSGD  Melancholy Social-Role 2014-07-26   \n",
       "\n",
       "   Order Value  Converted  \n",
       "0         6952          0  \n",
       "1         7930          0  \n",
       "2         5538          1  \n",
       "3         1113          0  \n",
       "4         4596          0  "
      ]
     },
     "execution_count": 11,
     "metadata": {},
     "output_type": "execute_result"
    }
   ],
   "source": [
    "order_leads.head()"
   ]
  },
  {
   "cell_type": "code",
   "execution_count": 13,
   "id": "406e9e96",
   "metadata": {},
   "outputs": [
    {
     "name": "stdout",
     "output_type": "stream",
     "text": [
      "<class 'pandas.core.frame.DataFrame'>\n",
      "RangeIndex: 100000 entries, 0 to 99999\n",
      "Data columns (total 6 columns):\n",
      " #   Column        Non-Null Count   Dtype         \n",
      "---  ------        --------------   -----         \n",
      " 0   Order Id      100000 non-null  object        \n",
      " 1   Company Id    100000 non-null  object        \n",
      " 2   Company Name  100000 non-null  object        \n",
      " 3   Date          100000 non-null  datetime64[ns]\n",
      " 4   Order Value   100000 non-null  int64         \n",
      " 5   Converted     100000 non-null  int64         \n",
      "dtypes: datetime64[ns](1), int64(2), object(3)\n",
      "memory usage: 4.6+ MB\n"
     ]
    }
   ],
   "source": [
    "order_leads.info()"
   ]
  },
  {
   "cell_type": "code",
   "execution_count": 18,
   "id": "c46510e8",
   "metadata": {},
   "outputs": [],
   "source": [
    "order_leads.drop('Company Id',inplace=True ,axis=1)"
   ]
  },
  {
   "cell_type": "code",
   "execution_count": 19,
   "id": "72b52b91",
   "metadata": {},
   "outputs": [
    {
     "data": {
      "text/html": [
       "<div>\n",
       "<style scoped>\n",
       "    .dataframe tbody tr th:only-of-type {\n",
       "        vertical-align: middle;\n",
       "    }\n",
       "\n",
       "    .dataframe tbody tr th {\n",
       "        vertical-align: top;\n",
       "    }\n",
       "\n",
       "    .dataframe thead th {\n",
       "        text-align: right;\n",
       "    }\n",
       "</style>\n",
       "<table border=\"1\" class=\"dataframe\">\n",
       "  <thead>\n",
       "    <tr style=\"text-align: right;\">\n",
       "      <th></th>\n",
       "      <th>Order Id</th>\n",
       "      <th>Company Name</th>\n",
       "      <th>Date</th>\n",
       "      <th>Order Value</th>\n",
       "      <th>Converted</th>\n",
       "    </tr>\n",
       "  </thead>\n",
       "  <tbody>\n",
       "    <tr>\n",
       "      <th>0</th>\n",
       "      <td>HZSXLI1IS9RGABZW</td>\n",
       "      <td>Melancholy Social-Role</td>\n",
       "      <td>2017-10-13</td>\n",
       "      <td>6952</td>\n",
       "      <td>0</td>\n",
       "    </tr>\n",
       "    <tr>\n",
       "      <th>1</th>\n",
       "      <td>582WPS3OW8T6YT0R</td>\n",
       "      <td>Melancholy Social-Role</td>\n",
       "      <td>2017-09-02</td>\n",
       "      <td>7930</td>\n",
       "      <td>0</td>\n",
       "    </tr>\n",
       "    <tr>\n",
       "      <th>2</th>\n",
       "      <td>KRF65MQZBOYG4Y9T</td>\n",
       "      <td>Melancholy Social-Role</td>\n",
       "      <td>2016-12-21</td>\n",
       "      <td>5538</td>\n",
       "      <td>1</td>\n",
       "    </tr>\n",
       "    <tr>\n",
       "      <th>3</th>\n",
       "      <td>N3EDZ5V1WGSWW828</td>\n",
       "      <td>Melancholy Social-Role</td>\n",
       "      <td>2018-06-03</td>\n",
       "      <td>1113</td>\n",
       "      <td>0</td>\n",
       "    </tr>\n",
       "    <tr>\n",
       "      <th>4</th>\n",
       "      <td>QXBC8COXEXGFSPLP</td>\n",
       "      <td>Melancholy Social-Role</td>\n",
       "      <td>2014-07-26</td>\n",
       "      <td>4596</td>\n",
       "      <td>0</td>\n",
       "    </tr>\n",
       "    <tr>\n",
       "      <th>...</th>\n",
       "      <td>...</td>\n",
       "      <td>...</td>\n",
       "      <td>...</td>\n",
       "      <td>...</td>\n",
       "      <td>...</td>\n",
       "    </tr>\n",
       "    <tr>\n",
       "      <th>99995</th>\n",
       "      <td>HKZFX556ZQRZJZWR</td>\n",
       "      <td>Trade-Preparatory Quarterbacks</td>\n",
       "      <td>2017-11-06</td>\n",
       "      <td>7516</td>\n",
       "      <td>0</td>\n",
       "    </tr>\n",
       "    <tr>\n",
       "      <th>99996</th>\n",
       "      <td>962CSDMAJ49E0CRK</td>\n",
       "      <td>Trade-Preparatory Quarterbacks</td>\n",
       "      <td>2018-08-02</td>\n",
       "      <td>442</td>\n",
       "      <td>1</td>\n",
       "    </tr>\n",
       "    <tr>\n",
       "      <th>99997</th>\n",
       "      <td>ZW7RO9TLL6EVVJEC</td>\n",
       "      <td>Trade-Preparatory Quarterbacks</td>\n",
       "      <td>2014-11-02</td>\n",
       "      <td>8544</td>\n",
       "      <td>0</td>\n",
       "    </tr>\n",
       "    <tr>\n",
       "      <th>99998</th>\n",
       "      <td>LNKGIWMZ9RT49IE9</td>\n",
       "      <td>Trade-Preparatory Quarterbacks</td>\n",
       "      <td>2017-04-01</td>\n",
       "      <td>6650</td>\n",
       "      <td>0</td>\n",
       "    </tr>\n",
       "    <tr>\n",
       "      <th>99999</th>\n",
       "      <td>X9Y21H4JWX6OGC2Z</td>\n",
       "      <td>Trade-Preparatory Quarterbacks</td>\n",
       "      <td>2016-07-27</td>\n",
       "      <td>953</td>\n",
       "      <td>0</td>\n",
       "    </tr>\n",
       "  </tbody>\n",
       "</table>\n",
       "<p>100000 rows × 5 columns</p>\n",
       "</div>"
      ],
      "text/plain": [
       "               Order Id                    Company Name       Date  \\\n",
       "0      HZSXLI1IS9RGABZW          Melancholy Social-Role 2017-10-13   \n",
       "1      582WPS3OW8T6YT0R          Melancholy Social-Role 2017-09-02   \n",
       "2      KRF65MQZBOYG4Y9T          Melancholy Social-Role 2016-12-21   \n",
       "3      N3EDZ5V1WGSWW828          Melancholy Social-Role 2018-06-03   \n",
       "4      QXBC8COXEXGFSPLP          Melancholy Social-Role 2014-07-26   \n",
       "...                 ...                             ...        ...   \n",
       "99995  HKZFX556ZQRZJZWR  Trade-Preparatory Quarterbacks 2017-11-06   \n",
       "99996  962CSDMAJ49E0CRK  Trade-Preparatory Quarterbacks 2018-08-02   \n",
       "99997  ZW7RO9TLL6EVVJEC  Trade-Preparatory Quarterbacks 2014-11-02   \n",
       "99998  LNKGIWMZ9RT49IE9  Trade-Preparatory Quarterbacks 2017-04-01   \n",
       "99999  X9Y21H4JWX6OGC2Z  Trade-Preparatory Quarterbacks 2016-07-27   \n",
       "\n",
       "       Order Value  Converted  \n",
       "0             6952          0  \n",
       "1             7930          0  \n",
       "2             5538          1  \n",
       "3             1113          0  \n",
       "4             4596          0  \n",
       "...            ...        ...  \n",
       "99995         7516          0  \n",
       "99996          442          1  \n",
       "99997         8544          0  \n",
       "99998         6650          0  \n",
       "99999          953          0  \n",
       "\n",
       "[100000 rows x 5 columns]"
      ]
     },
     "execution_count": 19,
     "metadata": {},
     "output_type": "execute_result"
    }
   ],
   "source": [
    "order_leads"
   ]
  },
  {
   "cell_type": "code",
   "execution_count": 20,
   "id": "3f34aeb7",
   "metadata": {},
   "outputs": [
    {
     "data": {
      "text/html": [
       "<div>\n",
       "<style scoped>\n",
       "    .dataframe tbody tr th:only-of-type {\n",
       "        vertical-align: middle;\n",
       "    }\n",
       "\n",
       "    .dataframe tbody tr th {\n",
       "        vertical-align: top;\n",
       "    }\n",
       "\n",
       "    .dataframe thead th {\n",
       "        text-align: right;\n",
       "    }\n",
       "</style>\n",
       "<table border=\"1\" class=\"dataframe\">\n",
       "  <thead>\n",
       "    <tr style=\"text-align: right;\">\n",
       "      <th></th>\n",
       "      <th>Order Id</th>\n",
       "      <th>Company Name</th>\n",
       "      <th>Date</th>\n",
       "      <th>Order Value</th>\n",
       "      <th>Converted</th>\n",
       "    </tr>\n",
       "  </thead>\n",
       "  <tbody>\n",
       "    <tr>\n",
       "      <th>0</th>\n",
       "      <td>HZSXLI1IS9RGABZW</td>\n",
       "      <td>Melancholy Social-Role</td>\n",
       "      <td>2017-10-13</td>\n",
       "      <td>6952</td>\n",
       "      <td>0</td>\n",
       "    </tr>\n",
       "    <tr>\n",
       "      <th>1</th>\n",
       "      <td>582WPS3OW8T6YT0R</td>\n",
       "      <td>Melancholy Social-Role</td>\n",
       "      <td>2017-09-02</td>\n",
       "      <td>7930</td>\n",
       "      <td>0</td>\n",
       "    </tr>\n",
       "    <tr>\n",
       "      <th>2</th>\n",
       "      <td>KRF65MQZBOYG4Y9T</td>\n",
       "      <td>Melancholy Social-Role</td>\n",
       "      <td>2016-12-21</td>\n",
       "      <td>5538</td>\n",
       "      <td>1</td>\n",
       "    </tr>\n",
       "    <tr>\n",
       "      <th>3</th>\n",
       "      <td>N3EDZ5V1WGSWW828</td>\n",
       "      <td>Melancholy Social-Role</td>\n",
       "      <td>2018-06-03</td>\n",
       "      <td>1113</td>\n",
       "      <td>0</td>\n",
       "    </tr>\n",
       "    <tr>\n",
       "      <th>4</th>\n",
       "      <td>QXBC8COXEXGFSPLP</td>\n",
       "      <td>Melancholy Social-Role</td>\n",
       "      <td>2014-07-26</td>\n",
       "      <td>4596</td>\n",
       "      <td>0</td>\n",
       "    </tr>\n",
       "  </tbody>\n",
       "</table>\n",
       "</div>"
      ],
      "text/plain": [
       "           Order Id            Company Name       Date  Order Value  Converted\n",
       "0  HZSXLI1IS9RGABZW  Melancholy Social-Role 2017-10-13         6952          0\n",
       "1  582WPS3OW8T6YT0R  Melancholy Social-Role 2017-09-02         7930          0\n",
       "2  KRF65MQZBOYG4Y9T  Melancholy Social-Role 2016-12-21         5538          1\n",
       "3  N3EDZ5V1WGSWW828  Melancholy Social-Role 2018-06-03         1113          0\n",
       "4  QXBC8COXEXGFSPLP  Melancholy Social-Role 2014-07-26         4596          0"
      ]
     },
     "execution_count": 20,
     "metadata": {},
     "output_type": "execute_result"
    }
   ],
   "source": [
    "order_leads.head()"
   ]
  },
  {
   "cell_type": "code",
   "execution_count": 22,
   "id": "7396686d",
   "metadata": {},
   "outputs": [
    {
     "data": {
      "text/plain": [
       "0"
      ]
     },
     "execution_count": 22,
     "metadata": {},
     "output_type": "execute_result"
    }
   ],
   "source": [
    "order_leads.duplicated().sum()"
   ]
  },
  {
   "cell_type": "code",
   "execution_count": 23,
   "id": "4b242cc5",
   "metadata": {},
   "outputs": [
    {
     "data": {
      "text/plain": [
       "Order Id        0\n",
       "Company Name    0\n",
       "Date            0\n",
       "Order Value     0\n",
       "Converted       0\n",
       "dtype: int64"
      ]
     },
     "execution_count": 23,
     "metadata": {},
     "output_type": "execute_result"
    }
   ],
   "source": [
    "order_leads.isna().sum()"
   ]
  },
  {
   "cell_type": "code",
   "execution_count": 24,
   "id": "c980d1ff",
   "metadata": {},
   "outputs": [
    {
     "data": {
      "text/plain": [
       "Order Id        0\n",
       "Company Name    0\n",
       "Date            0\n",
       "Order Value     0\n",
       "Converted       0\n",
       "dtype: int64"
      ]
     },
     "execution_count": 24,
     "metadata": {},
     "output_type": "execute_result"
    }
   ],
   "source": [
    "order_leads.isnull().sum()"
   ]
  },
  {
   "cell_type": "code",
   "execution_count": 26,
   "id": "e1a879df",
   "metadata": {},
   "outputs": [
    {
     "data": {
      "text/plain": [
       "(4619, 4)"
      ]
     },
     "execution_count": 26,
     "metadata": {},
     "output_type": "execute_result"
    }
   ],
   "source": [
    "sales_team.shape"
   ]
  },
  {
   "cell_type": "code",
   "execution_count": 28,
   "id": "9672cb44",
   "metadata": {},
   "outputs": [
    {
     "data": {
      "text/plain": [
       "Index(['Sales Rep', 'Sales Rep Id', 'Company Name', 'Company Id'], dtype='object')"
      ]
     },
     "execution_count": 28,
     "metadata": {},
     "output_type": "execute_result"
    }
   ],
   "source": [
    "sales_team.columns"
   ]
  },
  {
   "cell_type": "code",
   "execution_count": 31,
   "id": "e449b083",
   "metadata": {},
   "outputs": [
    {
     "name": "stdout",
     "output_type": "stream",
     "text": [
      "<class 'pandas.core.frame.DataFrame'>\n",
      "RangeIndex: 4619 entries, 0 to 4618\n",
      "Data columns (total 4 columns):\n",
      " #   Column        Non-Null Count  Dtype \n",
      "---  ------        --------------  ----- \n",
      " 0   Sales Rep     4619 non-null   object\n",
      " 1   Sales Rep Id  4619 non-null   object\n",
      " 2   Company Name  4619 non-null   object\n",
      " 3   Company Id    4619 non-null   object\n",
      "dtypes: object(4)\n",
      "memory usage: 144.5+ KB\n"
     ]
    }
   ],
   "source": [
    "sales_team.info()"
   ]
  },
  {
   "cell_type": "code",
   "execution_count": 32,
   "id": "62940943",
   "metadata": {},
   "outputs": [],
   "source": [
    "sales_team.drop('Company Id',axis=1,inplace=True)"
   ]
  },
  {
   "cell_type": "code",
   "execution_count": 33,
   "id": "d76616d3",
   "metadata": {},
   "outputs": [
    {
     "data": {
      "text/html": [
       "<div>\n",
       "<style scoped>\n",
       "    .dataframe tbody tr th:only-of-type {\n",
       "        vertical-align: middle;\n",
       "    }\n",
       "\n",
       "    .dataframe tbody tr th {\n",
       "        vertical-align: top;\n",
       "    }\n",
       "\n",
       "    .dataframe thead th {\n",
       "        text-align: right;\n",
       "    }\n",
       "</style>\n",
       "<table border=\"1\" class=\"dataframe\">\n",
       "  <thead>\n",
       "    <tr style=\"text-align: right;\">\n",
       "      <th></th>\n",
       "      <th>Sales Rep</th>\n",
       "      <th>Sales Rep Id</th>\n",
       "      <th>Company Name</th>\n",
       "    </tr>\n",
       "  </thead>\n",
       "  <tbody>\n",
       "    <tr>\n",
       "      <th>0</th>\n",
       "      <td>William Taylor</td>\n",
       "      <td>ZTZA0ZLYZR85PTUJ</td>\n",
       "      <td>Melancholy Social-Role</td>\n",
       "    </tr>\n",
       "    <tr>\n",
       "      <th>1</th>\n",
       "      <td>William Taylor</td>\n",
       "      <td>ZTZA0ZLYZR85PTUJ</td>\n",
       "      <td>Pee-Wee Pigeon</td>\n",
       "    </tr>\n",
       "    <tr>\n",
       "      <th>2</th>\n",
       "      <td>William Taylor</td>\n",
       "      <td>ZTZA0ZLYZR85PTUJ</td>\n",
       "      <td>Vaginal 36-Year-Old</td>\n",
       "    </tr>\n",
       "    <tr>\n",
       "      <th>3</th>\n",
       "      <td>William Taylor</td>\n",
       "      <td>ZTZA0ZLYZR85PTUJ</td>\n",
       "      <td>Unhurried Musician'S</td>\n",
       "    </tr>\n",
       "    <tr>\n",
       "      <th>4</th>\n",
       "      <td>William Taylor</td>\n",
       "      <td>ZTZA0ZLYZR85PTUJ</td>\n",
       "      <td>Comprehensive Lists</td>\n",
       "    </tr>\n",
       "    <tr>\n",
       "      <th>...</th>\n",
       "      <td>...</td>\n",
       "      <td>...</td>\n",
       "      <td>...</td>\n",
       "    </tr>\n",
       "    <tr>\n",
       "      <th>4614</th>\n",
       "      <td>Ida Woodward</td>\n",
       "      <td>LF3CPWWZKSNB1AXI</td>\n",
       "      <td>Unauthorized Increases</td>\n",
       "    </tr>\n",
       "    <tr>\n",
       "      <th>4615</th>\n",
       "      <td>Ida Woodward</td>\n",
       "      <td>LF3CPWWZKSNB1AXI</td>\n",
       "      <td>Atom-Like Principle</td>\n",
       "    </tr>\n",
       "    <tr>\n",
       "      <th>4616</th>\n",
       "      <td>Ida Woodward</td>\n",
       "      <td>LF3CPWWZKSNB1AXI</td>\n",
       "      <td>Congratulatory Economist</td>\n",
       "    </tr>\n",
       "    <tr>\n",
       "      <th>4617</th>\n",
       "      <td>Ida Woodward</td>\n",
       "      <td>LF3CPWWZKSNB1AXI</td>\n",
       "      <td>Readable Pilots</td>\n",
       "    </tr>\n",
       "    <tr>\n",
       "      <th>4618</th>\n",
       "      <td>Ida Woodward</td>\n",
       "      <td>LF3CPWWZKSNB1AXI</td>\n",
       "      <td>Trade-Preparatory Quarterbacks</td>\n",
       "    </tr>\n",
       "  </tbody>\n",
       "</table>\n",
       "<p>4619 rows × 3 columns</p>\n",
       "</div>"
      ],
      "text/plain": [
       "           Sales Rep      Sales Rep Id                    Company Name\n",
       "0     William Taylor  ZTZA0ZLYZR85PTUJ          Melancholy Social-Role\n",
       "1     William Taylor  ZTZA0ZLYZR85PTUJ                  Pee-Wee Pigeon\n",
       "2     William Taylor  ZTZA0ZLYZR85PTUJ             Vaginal 36-Year-Old\n",
       "3     William Taylor  ZTZA0ZLYZR85PTUJ            Unhurried Musician'S\n",
       "4     William Taylor  ZTZA0ZLYZR85PTUJ             Comprehensive Lists\n",
       "...              ...               ...                             ...\n",
       "4614    Ida Woodward  LF3CPWWZKSNB1AXI          Unauthorized Increases\n",
       "4615    Ida Woodward  LF3CPWWZKSNB1AXI             Atom-Like Principle\n",
       "4616    Ida Woodward  LF3CPWWZKSNB1AXI        Congratulatory Economist\n",
       "4617    Ida Woodward  LF3CPWWZKSNB1AXI                 Readable Pilots\n",
       "4618    Ida Woodward  LF3CPWWZKSNB1AXI  Trade-Preparatory Quarterbacks\n",
       "\n",
       "[4619 rows x 3 columns]"
      ]
     },
     "execution_count": 33,
     "metadata": {},
     "output_type": "execute_result"
    }
   ],
   "source": [
    "sales_team"
   ]
  },
  {
   "cell_type": "code",
   "execution_count": 34,
   "id": "7d5a3436",
   "metadata": {},
   "outputs": [
    {
     "data": {
      "text/plain": [
       "0"
      ]
     },
     "execution_count": 34,
     "metadata": {},
     "output_type": "execute_result"
    }
   ],
   "source": [
    "sales_team.duplicated().sum()"
   ]
  },
  {
   "cell_type": "code",
   "execution_count": 35,
   "id": "dec07737",
   "metadata": {},
   "outputs": [
    {
     "data": {
      "text/plain": [
       "Sales Rep       0\n",
       "Sales Rep Id    0\n",
       "Company Name    0\n",
       "dtype: int64"
      ]
     },
     "execution_count": 35,
     "metadata": {},
     "output_type": "execute_result"
    }
   ],
   "source": [
    "sales_team.isna().sum()"
   ]
  },
  {
   "cell_type": "code",
   "execution_count": 40,
   "id": "e4d7ec8a",
   "metadata": {},
   "outputs": [
    {
     "data": {
      "text/html": [
       "<div>\n",
       "<style scoped>\n",
       "    .dataframe tbody tr th:only-of-type {\n",
       "        vertical-align: middle;\n",
       "    }\n",
       "\n",
       "    .dataframe tbody tr th {\n",
       "        vertical-align: top;\n",
       "    }\n",
       "\n",
       "    .dataframe thead th {\n",
       "        text-align: right;\n",
       "    }\n",
       "</style>\n",
       "<table border=\"1\" class=\"dataframe\">\n",
       "  <thead>\n",
       "    <tr style=\"text-align: right;\">\n",
       "      <th></th>\n",
       "      <th>Order Id</th>\n",
       "      <th>Company Name</th>\n",
       "      <th>Date</th>\n",
       "      <th>Order Value</th>\n",
       "      <th>Converted</th>\n",
       "      <th>Sales Rep</th>\n",
       "      <th>Sales Rep Id</th>\n",
       "    </tr>\n",
       "  </thead>\n",
       "  <tbody>\n",
       "    <tr>\n",
       "      <th>0</th>\n",
       "      <td>HZSXLI1IS9RGABZW</td>\n",
       "      <td>Melancholy Social-Role</td>\n",
       "      <td>2017-10-13</td>\n",
       "      <td>6952</td>\n",
       "      <td>0</td>\n",
       "      <td>William Taylor</td>\n",
       "      <td>ZTZA0ZLYZR85PTUJ</td>\n",
       "    </tr>\n",
       "    <tr>\n",
       "      <th>1</th>\n",
       "      <td>582WPS3OW8T6YT0R</td>\n",
       "      <td>Melancholy Social-Role</td>\n",
       "      <td>2017-09-02</td>\n",
       "      <td>7930</td>\n",
       "      <td>0</td>\n",
       "      <td>William Taylor</td>\n",
       "      <td>ZTZA0ZLYZR85PTUJ</td>\n",
       "    </tr>\n",
       "    <tr>\n",
       "      <th>2</th>\n",
       "      <td>KRF65MQZBOYG4Y9T</td>\n",
       "      <td>Melancholy Social-Role</td>\n",
       "      <td>2016-12-21</td>\n",
       "      <td>5538</td>\n",
       "      <td>1</td>\n",
       "      <td>William Taylor</td>\n",
       "      <td>ZTZA0ZLYZR85PTUJ</td>\n",
       "    </tr>\n",
       "    <tr>\n",
       "      <th>3</th>\n",
       "      <td>N3EDZ5V1WGSWW828</td>\n",
       "      <td>Melancholy Social-Role</td>\n",
       "      <td>2018-06-03</td>\n",
       "      <td>1113</td>\n",
       "      <td>0</td>\n",
       "      <td>William Taylor</td>\n",
       "      <td>ZTZA0ZLYZR85PTUJ</td>\n",
       "    </tr>\n",
       "    <tr>\n",
       "      <th>4</th>\n",
       "      <td>QXBC8COXEXGFSPLP</td>\n",
       "      <td>Melancholy Social-Role</td>\n",
       "      <td>2014-07-26</td>\n",
       "      <td>4596</td>\n",
       "      <td>0</td>\n",
       "      <td>William Taylor</td>\n",
       "      <td>ZTZA0ZLYZR85PTUJ</td>\n",
       "    </tr>\n",
       "  </tbody>\n",
       "</table>\n",
       "</div>"
      ],
      "text/plain": [
       "           Order Id            Company Name       Date  Order Value  \\\n",
       "0  HZSXLI1IS9RGABZW  Melancholy Social-Role 2017-10-13         6952   \n",
       "1  582WPS3OW8T6YT0R  Melancholy Social-Role 2017-09-02         7930   \n",
       "2  KRF65MQZBOYG4Y9T  Melancholy Social-Role 2016-12-21         5538   \n",
       "3  N3EDZ5V1WGSWW828  Melancholy Social-Role 2018-06-03         1113   \n",
       "4  QXBC8COXEXGFSPLP  Melancholy Social-Role 2014-07-26         4596   \n",
       "\n",
       "   Converted       Sales Rep      Sales Rep Id  \n",
       "0          0  William Taylor  ZTZA0ZLYZR85PTUJ  \n",
       "1          0  William Taylor  ZTZA0ZLYZR85PTUJ  \n",
       "2          1  William Taylor  ZTZA0ZLYZR85PTUJ  \n",
       "3          0  William Taylor  ZTZA0ZLYZR85PTUJ  \n",
       "4          0  William Taylor  ZTZA0ZLYZR85PTUJ  "
      ]
     },
     "execution_count": 40,
     "metadata": {},
     "output_type": "execute_result"
    }
   ],
   "source": [
    "df=pd.merge(order_leads,sales_team,on='Company Name')\n",
    "df.head()"
   ]
  },
  {
   "cell_type": "code",
   "execution_count": 38,
   "id": "2e7424f9",
   "metadata": {},
   "outputs": [
    {
     "data": {
      "text/plain": [
       "(100000, 7)"
      ]
     },
     "execution_count": 38,
     "metadata": {},
     "output_type": "execute_result"
    }
   ],
   "source": [
    "df.shape"
   ]
  },
  {
   "cell_type": "code",
   "execution_count": 39,
   "id": "9f37be9e",
   "metadata": {},
   "outputs": [
    {
     "data": {
      "text/plain": [
       "Index(['Order Id', 'Company Name', 'Date', 'Order Value', 'Converted',\n",
       "       'Sales Rep', 'Sales Rep Id'],\n",
       "      dtype='object')"
      ]
     },
     "execution_count": 39,
     "metadata": {},
     "output_type": "execute_result"
    }
   ],
   "source": [
    "df.columns"
   ]
  },
  {
   "cell_type": "code",
   "execution_count": 41,
   "id": "c35ecd24",
   "metadata": {},
   "outputs": [
    {
     "data": {
      "text/plain": [
       "Order Id        0\n",
       "Company Name    0\n",
       "Date            0\n",
       "Order Value     0\n",
       "Converted       0\n",
       "Sales Rep       0\n",
       "Sales Rep Id    0\n",
       "dtype: int64"
      ]
     },
     "execution_count": 41,
     "metadata": {},
     "output_type": "execute_result"
    }
   ],
   "source": [
    "df.isna().sum()"
   ]
  },
  {
   "cell_type": "code",
   "execution_count": null,
   "id": "fa4139ff",
   "metadata": {},
   "outputs": [],
   "source": [
    "sns.axes_style(style=Order Value,)"
   ]
  }
 ],
 "metadata": {
  "kernelspec": {
   "display_name": "Python 3 (ipykernel)",
   "language": "python",
   "name": "python3"
  },
  "language_info": {
   "codemirror_mode": {
    "name": "ipython",
    "version": 3
   },
   "file_extension": ".py",
   "mimetype": "text/x-python",
   "name": "python",
   "nbconvert_exporter": "python",
   "pygments_lexer": "ipython3",
   "version": "3.11.7"
  }
 },
 "nbformat": 4,
 "nbformat_minor": 5
}
